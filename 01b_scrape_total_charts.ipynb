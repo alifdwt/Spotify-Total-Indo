{
  "nbformat": 4,
  "nbformat_minor": 0,
  "metadata": {
    "colab": {
      "provenance": []
    },
    "kernelspec": {
      "name": "python3",
      "display_name": "Python 3"
    },
    "language_info": {
      "name": "python"
    }
  },
  "cells": [
    {
      "cell_type": "markdown",
      "source": [
        "# BAB 1b, Data Collecting: Total Charts Scrapping\n",
        "Sumber data: https://kworb.net/spotify/country/id_daily_totals.html\n",
        "\n",
        "Hari / Tanggal: Selasa / 20 Juni 2023"
      ],
      "metadata": {
        "id": "562AzPxOMJ8e"
      }
    },
    {
      "cell_type": "code",
      "execution_count": null,
      "metadata": {
        "id": "V6Ycl3ECACRn"
      },
      "outputs": [],
      "source": [
        "!pip install spotipy"
      ]
    },
    {
      "cell_type": "code",
      "source": [
        "import spotipy\n",
        "from spotipy.oauth2 import SpotifyOAuth\n",
        "import pandas as pd\n",
        "import datetime\n",
        "import calendar"
      ],
      "metadata": {
        "id": "LMkEk0NaAVnY"
      },
      "execution_count": null,
      "outputs": []
    },
    {
      "cell_type": "code",
      "source": [
        "def get_today_date():\n",
        "    # Mendapatkan tanggal hari ini\n",
        "    today = datetime.date.today()\n",
        "\n",
        "    # Mendapatkan nama bulan dalam bahasa Indonesia\n",
        "    month_name = calendar.month_name[today.month]\n",
        "\n",
        "    # Mengubah format tanggal menjadi string dalam bentuk \"DD MonthName YYYY\"\n",
        "    formatted_date = f\"{today.day} {month_name} {today.year}\"\n",
        "\n",
        "    return formatted_date"
      ],
      "metadata": {
        "id": "KuQOMwTdAahb"
      },
      "execution_count": null,
      "outputs": []
    },
    {
      "cell_type": "code",
      "source": [
        "def create_spotify_playlist(dataframe, playlist_name, client_id, client_secret):\n",
        "    # Menginisialisasi koneksi dengan Spotify API menggunakan Spotipy\n",
        "    sp = spotipy.Spotify(auth_manager=SpotifyOAuth(client_id=client_id, client_secret=client_secret, redirect_uri='https://example.com/callback', scope='playlist-modify-private'))\n",
        "\n",
        "    # Membuat playlist baru\n",
        "    playlist = sp.user_playlist_create(sp.current_user()['id'], playlist_name, public=False)\n",
        "\n",
        "    # Menambahkan lagu ke playlist berdasarkan kolom 'Artist' dan 'Title' dalam DataFrame\n",
        "    for index, row in dataframe.iterrows():\n",
        "        artist = row['Artist']\n",
        "        title = row['Title']\n",
        "\n",
        "        # Mencari lagu berdasarkan artist dan title\n",
        "        results = sp.search(q=f'artist:{artist} track:{title}', type='track')\n",
        "\n",
        "        # Memastikan ada hasil pencarian lagu\n",
        "        if results['tracks']['total'] > 0:\n",
        "            track_uri = results['tracks']['items'][0]['uri']\n",
        "\n",
        "            # Menambahkan lagu ke playlist\n",
        "            sp.playlist_add_items(playlist['id'], [track_uri])\n",
        "\n",
        "    # Mengembalikan URL playlist yang dibuat\n",
        "    return playlist['external_urls']['spotify']"
      ],
      "metadata": {
        "id": "0LpYL_BHActC"
      },
      "execution_count": null,
      "outputs": []
    },
    {
      "cell_type": "code",
      "source": [
        "today_date = get_today_date()\n",
        "playlist_name = f\"Lagu Teratas Indonesia 2016-2023 - {today_date}\"\n",
        "client_id = '3ff80dfa932f42ccba937689112ebaf8'\n",
        "client_secret = 'b222a7c17fda476aa56057b10f263a7d'"
      ],
      "metadata": {
        "id": "2wJWG5BpAydI"
      },
      "execution_count": null,
      "outputs": []
    },
    {
      "cell_type": "code",
      "source": [
        "# URL untuk mengakses tabel Spotify\n",
        "url = \"https://kworb.net/spotify/country/id_daily_totals.html\"\n",
        "\n",
        "# Membaca tabel dari URL menggunakan pandas\n",
        "data = pd.read_html(url)\n",
        "\n",
        "# Mengambil tabel pertama dari hasil pembacaan (indeks 0)\n",
        "df = data[0]\n",
        "\n",
        "# Mengganti nama kolom 'Artist and Title' menjadi 'Artist'\n",
        "df.rename(columns={'Artist and Title': 'Artist'}, inplace=True)\n",
        "\n",
        "# Membagi kolom 'Artist' menjadi 'Artist' dan 'Title'\n",
        "df[['Artist', 'Title']] = df['Artist'].str.split(' - ', 1, expand=True)"
      ],
      "metadata": {
        "colab": {
          "base_uri": "https://localhost:8080/"
        },
        "id": "yHdVZlaRA8vP",
        "outputId": "cef8755d-b520-4a45-e6a5-d54a11635e12"
      },
      "execution_count": null,
      "outputs": [
        {
          "output_type": "stream",
          "name": "stderr",
          "text": [
            "<ipython-input-6-8114ddce8bad>:14: FutureWarning: In a future version of pandas all arguments of StringMethods.split except for the argument 'pat' will be keyword-only.\n",
            "  df[['Artist', 'Title']] = df['Artist'].str.split(' - ', 1, expand=True)\n"
          ]
        }
      ]
    },
    {
      "cell_type": "code",
      "source": [
        "df.shape"
      ],
      "metadata": {
        "colab": {
          "base_uri": "https://localhost:8080/"
        },
        "id": "_qNpgJoYBC14",
        "outputId": "88d72179-833a-4d8a-85d9-6e3497d8f88e"
      },
      "execution_count": null,
      "outputs": [
        {
          "output_type": "execute_result",
          "data": {
            "text/plain": [
              "(4722, 8)"
            ]
          },
          "metadata": {},
          "execution_count": 7
        }
      ]
    },
    {
      "cell_type": "code",
      "source": [
        "df.head()"
      ],
      "metadata": {
        "colab": {
          "base_uri": "https://localhost:8080/",
          "height": 206
        },
        "id": "ci1gvBxcBGk4",
        "outputId": "2db30992-ee26-4ebe-f764-ddad05b48416"
      },
      "execution_count": null,
      "outputs": [
        {
          "output_type": "execute_result",
          "data": {
            "text/plain": [
              "         Artist  Days    T10  Pk   (x?)  PkStreams      Total  \\\n",
              "0     Pamungkas  1274  238.0   1  (x80)     750272  208336600   \n",
              "1    Feby Putri   617  434.0   1   (x4)     596645  205823463   \n",
              "2         Tulus   473  260.0   1  (x89)    1461480  201124998   \n",
              "3  Nadin Amizah  1116  169.0   1  (x40)     380554  191139969   \n",
              "4         Tulus  2378    NaN  12    NaN     421746  182870661   \n",
              "\n",
              "                Title  \n",
              "0         To the Bone  \n",
              "1              Runtuh  \n",
              "2  Hati-Hati di Jalan  \n",
              "3             Bertaut  \n",
              "4            Monokrom  "
            ],
            "text/html": [
              "\n",
              "  <div id=\"df-916ac408-e8a9-45a9-b9d3-a9184342d555\">\n",
              "    <div class=\"colab-df-container\">\n",
              "      <div>\n",
              "<style scoped>\n",
              "    .dataframe tbody tr th:only-of-type {\n",
              "        vertical-align: middle;\n",
              "    }\n",
              "\n",
              "    .dataframe tbody tr th {\n",
              "        vertical-align: top;\n",
              "    }\n",
              "\n",
              "    .dataframe thead th {\n",
              "        text-align: right;\n",
              "    }\n",
              "</style>\n",
              "<table border=\"1\" class=\"dataframe\">\n",
              "  <thead>\n",
              "    <tr style=\"text-align: right;\">\n",
              "      <th></th>\n",
              "      <th>Artist</th>\n",
              "      <th>Days</th>\n",
              "      <th>T10</th>\n",
              "      <th>Pk</th>\n",
              "      <th>(x?)</th>\n",
              "      <th>PkStreams</th>\n",
              "      <th>Total</th>\n",
              "      <th>Title</th>\n",
              "    </tr>\n",
              "  </thead>\n",
              "  <tbody>\n",
              "    <tr>\n",
              "      <th>0</th>\n",
              "      <td>Pamungkas</td>\n",
              "      <td>1274</td>\n",
              "      <td>238.0</td>\n",
              "      <td>1</td>\n",
              "      <td>(x80)</td>\n",
              "      <td>750272</td>\n",
              "      <td>208336600</td>\n",
              "      <td>To the Bone</td>\n",
              "    </tr>\n",
              "    <tr>\n",
              "      <th>1</th>\n",
              "      <td>Feby Putri</td>\n",
              "      <td>617</td>\n",
              "      <td>434.0</td>\n",
              "      <td>1</td>\n",
              "      <td>(x4)</td>\n",
              "      <td>596645</td>\n",
              "      <td>205823463</td>\n",
              "      <td>Runtuh</td>\n",
              "    </tr>\n",
              "    <tr>\n",
              "      <th>2</th>\n",
              "      <td>Tulus</td>\n",
              "      <td>473</td>\n",
              "      <td>260.0</td>\n",
              "      <td>1</td>\n",
              "      <td>(x89)</td>\n",
              "      <td>1461480</td>\n",
              "      <td>201124998</td>\n",
              "      <td>Hati-Hati di Jalan</td>\n",
              "    </tr>\n",
              "    <tr>\n",
              "      <th>3</th>\n",
              "      <td>Nadin Amizah</td>\n",
              "      <td>1116</td>\n",
              "      <td>169.0</td>\n",
              "      <td>1</td>\n",
              "      <td>(x40)</td>\n",
              "      <td>380554</td>\n",
              "      <td>191139969</td>\n",
              "      <td>Bertaut</td>\n",
              "    </tr>\n",
              "    <tr>\n",
              "      <th>4</th>\n",
              "      <td>Tulus</td>\n",
              "      <td>2378</td>\n",
              "      <td>NaN</td>\n",
              "      <td>12</td>\n",
              "      <td>NaN</td>\n",
              "      <td>421746</td>\n",
              "      <td>182870661</td>\n",
              "      <td>Monokrom</td>\n",
              "    </tr>\n",
              "  </tbody>\n",
              "</table>\n",
              "</div>\n",
              "      <button class=\"colab-df-convert\" onclick=\"convertToInteractive('df-916ac408-e8a9-45a9-b9d3-a9184342d555')\"\n",
              "              title=\"Convert this dataframe to an interactive table.\"\n",
              "              style=\"display:none;\">\n",
              "        \n",
              "  <svg xmlns=\"http://www.w3.org/2000/svg\" height=\"24px\"viewBox=\"0 0 24 24\"\n",
              "       width=\"24px\">\n",
              "    <path d=\"M0 0h24v24H0V0z\" fill=\"none\"/>\n",
              "    <path d=\"M18.56 5.44l.94 2.06.94-2.06 2.06-.94-2.06-.94-.94-2.06-.94 2.06-2.06.94zm-11 1L8.5 8.5l.94-2.06 2.06-.94-2.06-.94L8.5 2.5l-.94 2.06-2.06.94zm10 10l.94 2.06.94-2.06 2.06-.94-2.06-.94-.94-2.06-.94 2.06-2.06.94z\"/><path d=\"M17.41 7.96l-1.37-1.37c-.4-.4-.92-.59-1.43-.59-.52 0-1.04.2-1.43.59L10.3 9.45l-7.72 7.72c-.78.78-.78 2.05 0 2.83L4 21.41c.39.39.9.59 1.41.59.51 0 1.02-.2 1.41-.59l7.78-7.78 2.81-2.81c.8-.78.8-2.07 0-2.86zM5.41 20L4 18.59l7.72-7.72 1.47 1.35L5.41 20z\"/>\n",
              "  </svg>\n",
              "      </button>\n",
              "      \n",
              "  <style>\n",
              "    .colab-df-container {\n",
              "      display:flex;\n",
              "      flex-wrap:wrap;\n",
              "      gap: 12px;\n",
              "    }\n",
              "\n",
              "    .colab-df-convert {\n",
              "      background-color: #E8F0FE;\n",
              "      border: none;\n",
              "      border-radius: 50%;\n",
              "      cursor: pointer;\n",
              "      display: none;\n",
              "      fill: #1967D2;\n",
              "      height: 32px;\n",
              "      padding: 0 0 0 0;\n",
              "      width: 32px;\n",
              "    }\n",
              "\n",
              "    .colab-df-convert:hover {\n",
              "      background-color: #E2EBFA;\n",
              "      box-shadow: 0px 1px 2px rgba(60, 64, 67, 0.3), 0px 1px 3px 1px rgba(60, 64, 67, 0.15);\n",
              "      fill: #174EA6;\n",
              "    }\n",
              "\n",
              "    [theme=dark] .colab-df-convert {\n",
              "      background-color: #3B4455;\n",
              "      fill: #D2E3FC;\n",
              "    }\n",
              "\n",
              "    [theme=dark] .colab-df-convert:hover {\n",
              "      background-color: #434B5C;\n",
              "      box-shadow: 0px 1px 3px 1px rgba(0, 0, 0, 0.15);\n",
              "      filter: drop-shadow(0px 1px 2px rgba(0, 0, 0, 0.3));\n",
              "      fill: #FFFFFF;\n",
              "    }\n",
              "  </style>\n",
              "\n",
              "      <script>\n",
              "        const buttonEl =\n",
              "          document.querySelector('#df-916ac408-e8a9-45a9-b9d3-a9184342d555 button.colab-df-convert');\n",
              "        buttonEl.style.display =\n",
              "          google.colab.kernel.accessAllowed ? 'block' : 'none';\n",
              "\n",
              "        async function convertToInteractive(key) {\n",
              "          const element = document.querySelector('#df-916ac408-e8a9-45a9-b9d3-a9184342d555');\n",
              "          const dataTable =\n",
              "            await google.colab.kernel.invokeFunction('convertToInteractive',\n",
              "                                                     [key], {});\n",
              "          if (!dataTable) return;\n",
              "\n",
              "          const docLinkHtml = 'Like what you see? Visit the ' +\n",
              "            '<a target=\"_blank\" href=https://colab.research.google.com/notebooks/data_table.ipynb>data table notebook</a>'\n",
              "            + ' to learn more about interactive tables.';\n",
              "          element.innerHTML = '';\n",
              "          dataTable['output_type'] = 'display_data';\n",
              "          await google.colab.output.renderOutput(dataTable, element);\n",
              "          const docLink = document.createElement('div');\n",
              "          docLink.innerHTML = docLinkHtml;\n",
              "          element.appendChild(docLink);\n",
              "        }\n",
              "      </script>\n",
              "    </div>\n",
              "  </div>\n",
              "  "
            ]
          },
          "metadata": {},
          "execution_count": 8
        }
      ]
    },
    {
      "cell_type": "code",
      "source": [
        "from IPython.display import display, HTML\n",
        "\n",
        "# URL untuk mendapatkan authorization code\n",
        "auth_url = \"https://accounts.spotify.com/authorize?client_id=CLIENT_ID&response_type=code&redirect_uri=REDIRECT_URI&scope=playlist-modify-private\"\n",
        "\n",
        "# Menampilkan URL sebagai tautan yang dapat diklik\n",
        "display(HTML(f\"Click <a href='{auth_url}' target='_blank'>here</a> to authorize access to your Spotify account.\"))\n",
        "\n",
        "# Meminta pengguna untuk memasukkan authorization code secara manual\n",
        "authorization_code = input(\"Enter the authorization code: \")"
      ],
      "metadata": {
        "id": "k2qbqDNJBnAh"
      },
      "execution_count": null,
      "outputs": []
    },
    {
      "cell_type": "code",
      "source": [
        "# Membuat playlist di Spotify\n",
        "playlist_url = create_spotify_playlist(df, playlist_name, client_id, client_secret)\n",
        "print(f\"Playlist '{playlist_name}' berhasil dibuat di Spotify. URL playlist: {playlist_url}\")"
      ],
      "metadata": {
        "colab": {
          "base_uri": "https://localhost:8080/"
        },
        "id": "3oKw1yryBrR4",
        "outputId": "9d76f73d-f72a-4bac-f61d-0ebd405d0fab"
      },
      "execution_count": null,
      "outputs": [
        {
          "output_type": "stream",
          "name": "stdout",
          "text": [
            "Enter the URL you were redirected to: https://example.com/callback?code=AQBc9g4A6kStW9pKqe_rbP7xNX1OnIAAHqhKNdnBdQnGiTMqLgvnE7LnB0-PSGmxccl3GD2LWC2x-2fCop0ytwdR1NRaK-CQyKZHXTHM_sYCk7WOnbwSookPzIzAfeT1TZ0VOsxyRNokqQZgHEgjzF8kl6Ni7VZ-aR7G8qrIjM4t5DxDy09QZo7_gTkSzsJ_hcWOdFL1l7Pk\n",
            "Playlist 'Lagu Teratas Indonesia 2016-2023 - 20 June 2023' berhasil dibuat di Spotify. URL playlist: https://open.spotify.com/playlist/5v4EtazJ8p90GXyFRiIwHT\n"
          ]
        }
      ]
    },
    {
      "cell_type": "code",
      "source": [
        "df.to_csv('df_total.csv')"
      ],
      "metadata": {
        "id": "VuP24pWMKG6y"
      },
      "execution_count": null,
      "outputs": []
    }
  ]
}